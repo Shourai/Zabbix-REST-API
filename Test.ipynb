{
 "cells": [
  {
   "cell_type": "code",
   "execution_count": 1,
   "metadata": {
    "collapsed": true,
    "pycharm": {
     "is_executing": false
    }
   },
   "outputs": [],
   "source": [
    "from pyzabbix import ZabbixAPI\n",
    "import json\n",
    "import urllib3\n",
    "\n",
    "urllib3.disable_warnings(urllib3.exceptions.InsecureRequestWarning)\n",
    "\n",
    "with open(\"credentials.json\",\"r\") as file:\n",
    "    credentials = json.load(file)\n",
    "\n",
    "url = credentials['url']\n",
    "username = credentials['username']\n",
    "password = credentials['password']\n",
    "zapi = ZabbixAPI(url)\n",
    "# Disable SSL certificate verification\n",
    "zapi.session.verify = False\n",
    "\n",
    "zapi.login(username, password)"
   ]
  },
  {
   "cell_type": "code",
   "execution_count": 15,
   "outputs": [
    {
     "data": {
      "text/plain": "[{'hostid': '11010', 'host': '5433-0005', 'name': '5433-0005', 'status': '0'},\n {'hostid': '11520',\n  'host': '129.125.3.107',\n  'name': '129.125.3.107',\n  'status': '0'},\n {'hostid': '11191', 'host': '5161-0253', 'name': '5161-0253', 'status': '0'},\n {'hostid': '11531', 'host': '3214-0013', 'name': '3214-0013', 'status': '1'},\n {'hostid': '10991', 'host': '1112-0347', 'name': '1112-0347', 'status': '0'},\n {'hostid': '11007', 'host': '5412-0040', 'name': '5412-0040', 'status': '0'},\n {'hostid': '11002', 'host': '5161-0151', 'name': '5161-0151', 'status': '0'},\n {'hostid': '11006', 'host': '5412-0031', 'name': '5412-0031', 'status': '0'},\n {'hostid': '10995', 'host': '1314-0026', 'name': '1314-0026', 'status': '0'},\n {'hostid': '10997', 'host': '2212-0161', 'name': '2212-0161', 'status': '0'},\n {'hostid': '10999', 'host': '3219-0061', 'name': '3219-0061', 'status': '0'},\n {'hostid': '11003', 'host': '5263-0005', 'name': '5263-0005', 'status': '0'},\n {'hostid': '10993', 'host': '1124-0253', 'name': '1124-0253', 'status': '0'},\n {'hostid': '11009', 'host': '5419-0112', 'name': '5419-0112', 'status': '0'},\n {'hostid': '11085', 'host': '8888-8888', 'name': 'Pathe', 'status': '0'},\n {'hostid': '10992', 'host': '1112-0351', 'name': '1112-0351', 'status': '0'},\n {'hostid': '11005', 'host': '5412-0028', 'name': '5412-0028', 'status': '0'},\n {'hostid': '11008', 'host': '5419-0015', 'name': '5419-0015', 'status': '0'},\n {'hostid': '10824', 'host': '1314-0014', 'name': '1314-0014', 'status': '0'},\n {'hostid': '11000', 'host': '4345-0121', 'name': '4345-0121', 'status': '0'},\n {'hostid': '11468', 'host': '5415-0183', 'name': '5415-0183', 'status': '0'},\n {'hostid': '11577', 'host': '5431-0171', 'name': '5431-0171', 'status': '1'},\n {'hostid': '11585', 'host': '5431-0053', 'name': '5431-0053', 'status': '0'},\n {'hostid': '11586', 'host': '5527-0030', 'name': '5527-0030', 'status': '0'},\n {'hostid': '11004', 'host': '5412-0020', 'name': '5412-0020', 'status': '0'},\n {'hostid': '10990', 'host': '1112-0260', 'name': '1112-0260', 'status': '0'},\n {'hostid': '10934', 'host': '1112-0254', 'name': '1112-0254', 'status': '0'},\n {'hostid': '10998', 'host': '3214-0063', 'name': '3214-0063', 'status': '0'}]"
     },
     "metadata": {},
     "output_type": "execute_result",
     "execution_count": 15
    }
   ],
   "source": [
    "zapi.event.get(limit=50, severities=[3,4,5])\n",
    "\n"
   ],
   "metadata": {
    "collapsed": false,
    "pycharm": {
     "name": "#%%\n",
     "is_executing": false
    }
   }
  },
  {
   "cell_type": "code",
   "execution_count": null,
   "outputs": [],
   "source": [
    "\n"
   ],
   "metadata": {
    "collapsed": false,
    "pycharm": {
     "name": "#%%\n"
    }
   }
  }
 ],
 "metadata": {
  "language_info": {
   "codemirror_mode": {
    "name": "ipython",
    "version": 2
   },
   "file_extension": ".py",
   "mimetype": "text/x-python",
   "name": "python",
   "nbconvert_exporter": "python",
   "pygments_lexer": "ipython2",
   "version": "2.7.6"
  },
  "kernelspec": {
   "name": "python3",
   "language": "python",
   "display_name": "Python 3"
  },
  "pycharm": {
   "stem_cell": {
    "cell_type": "raw",
    "source": [],
    "metadata": {
     "collapsed": false
    }
   }
  }
 },
 "nbformat": 4,
 "nbformat_minor": 0
}